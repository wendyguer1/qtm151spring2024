{
 "cells": [
  {
   "cell_type": "markdown",
   "metadata": {},
   "source": [
    "(a) Create a function and apply it to a column \n",
    "\n",
    "Step 1:\n",
    "\n",
    "Define a function with a parameter \"year\"\n",
    "If \"year < 2016\", status = \"Joined before 2016\"\n",
    "If \"height >= 2016\", status = \"Joined on 2016 or after\"\n",
    "The function returns \"status\"\n",
    "\n",
    "Step 2:\n",
    "Extract the column \"Joined On\" in the dataset\n",
    "Create a new variable called \"joined_after2016\"\n",
    "to assign each player to the correct age bracket \n",
    "\n",
    "HINT: use the \".apply()\" function "
   ]
  },
  {
   "cell_type": "code",
   "execution_count": 1,
   "metadata": {},
   "outputs": [],
   "source": [
    "import numpy as np\n",
    "import pandas as pd\n",
    "import matplotlib.pyplot as plt"
   ]
  },
  {
   "cell_type": "code",
   "execution_count": 3,
   "metadata": {},
   "outputs": [],
   "source": [
    "fifa = pd.read_csv('Practice Quiz/fifa23_players_basic.csv')"
   ]
  },
  {
   "cell_type": "code",
   "execution_count": 4,
   "metadata": {},
   "outputs": [
    {
     "data": {
      "text/html": [
       "<div>\n",
       "<style scoped>\n",
       "    .dataframe tbody tr th:only-of-type {\n",
       "        vertical-align: middle;\n",
       "    }\n",
       "\n",
       "    .dataframe tbody tr th {\n",
       "        vertical-align: top;\n",
       "    }\n",
       "\n",
       "    .dataframe thead th {\n",
       "        text-align: right;\n",
       "    }\n",
       "</style>\n",
       "<table border=\"1\" class=\"dataframe\">\n",
       "  <thead>\n",
       "    <tr style=\"text-align: right;\">\n",
       "      <th></th>\n",
       "      <th>Joined On</th>\n",
       "    </tr>\n",
       "  </thead>\n",
       "  <tbody>\n",
       "    <tr>\n",
       "      <th>0</th>\n",
       "      <td>2021</td>\n",
       "    </tr>\n",
       "    <tr>\n",
       "      <th>1</th>\n",
       "      <td>2009</td>\n",
       "    </tr>\n",
       "    <tr>\n",
       "      <th>2</th>\n",
       "      <td>2022</td>\n",
       "    </tr>\n",
       "    <tr>\n",
       "      <th>3</th>\n",
       "      <td>2015</td>\n",
       "    </tr>\n",
       "    <tr>\n",
       "      <th>4</th>\n",
       "      <td>2018</td>\n",
       "    </tr>\n",
       "    <tr>\n",
       "      <th>...</th>\n",
       "      <td>...</td>\n",
       "    </tr>\n",
       "    <tr>\n",
       "      <th>18534</th>\n",
       "      <td>2018</td>\n",
       "    </tr>\n",
       "    <tr>\n",
       "      <th>18535</th>\n",
       "      <td>2021</td>\n",
       "    </tr>\n",
       "    <tr>\n",
       "      <th>18536</th>\n",
       "      <td>2022</td>\n",
       "    </tr>\n",
       "    <tr>\n",
       "      <th>18537</th>\n",
       "      <td>2022</td>\n",
       "    </tr>\n",
       "    <tr>\n",
       "      <th>18538</th>\n",
       "      <td>2020</td>\n",
       "    </tr>\n",
       "  </tbody>\n",
       "</table>\n",
       "<p>18539 rows × 1 columns</p>\n",
       "</div>"
      ],
      "text/plain": [
       "       Joined On\n",
       "0           2021\n",
       "1           2009\n",
       "2           2022\n",
       "3           2015\n",
       "4           2018\n",
       "...          ...\n",
       "18534       2018\n",
       "18535       2021\n",
       "18536       2022\n",
       "18537       2022\n",
       "18538       2020\n",
       "\n",
       "[18539 rows x 1 columns]"
      ]
     },
     "metadata": {},
     "output_type": "display_data"
    },
    {
     "data": {
      "text/plain": [
       "0        Joined on 2016 or after\n",
       "1             Joined before 2016\n",
       "2        Joined on 2016 or after\n",
       "3             Joined before 2016\n",
       "4        Joined on 2016 or after\n",
       "                  ...           \n",
       "18534    Joined on 2016 or after\n",
       "18535    Joined on 2016 or after\n",
       "18536    Joined on 2016 or after\n",
       "18537    Joined on 2016 or after\n",
       "18538    Joined on 2016 or after\n",
       "Name: joined_after2016, Length: 18539, dtype: object"
      ]
     },
     "metadata": {},
     "output_type": "display_data"
    }
   ],
   "source": [
    "def fn_fifa(year):\n",
    "    if year < 2016:\n",
    "        status = \"Joined before 2016\"\n",
    "    elif year >= 2016:\n",
    "        status = \"Joined on 2016 or after\"\n",
    "    return(status)\n",
    "\n",
    "display(fifa[[\"Joined On\"]])\n",
    "fifa[\"joined_after2016\"] = fifa[\"Joined On\"].apply(fn_fifa)\n",
    "display(fifa[\"joined_after2016\"])"
   ]
  },
  {
   "cell_type": "markdown",
   "metadata": {},
   "source": [
    "(b) Use queries + global variables\n",
    "\n",
    "Compute the mean of the column \"Height(in cm)\"\n",
    "and store it as a variable \n",
    "\n",
    "Subset the players whose value is above the mean value using .query()\n",
    "\n",
    "HINT: Remember that there is special syntaz for when the columns have spaces. Reference the column as 'Height(in cm)' inside query\n"
   ]
  },
  {
   "cell_type": "code",
   "execution_count": 9,
   "metadata": {},
   "outputs": [
    {
     "data": {
      "text/plain": [
       "pandas.core.series.Series"
      ]
     },
     "execution_count": 9,
     "metadata": {},
     "output_type": "execute_result"
    }
   ],
   "source": [
    "type(fifa[\"Height(in cm)\"])"
   ]
  },
  {
   "cell_type": "code",
   "execution_count": null,
   "metadata": {},
   "outputs": [],
   "source": [
    "avg_height = fifa[\"Height(in cm)\"].mean()\n",
    "above_mean = fifa.query(\"'Height(in cm)' >= @avg_height\")"
   ]
  },
  {
   "cell_type": "markdown",
   "metadata": {},
   "source": [
    "(c) Use sorting + \".iloc[]\"\n",
    "\n",
    "Use \".sort_values()\" to order the \"Value(in Euro)\" column from largest to smaller \n",
    "Get a subset with the 5 players with the highest monetary valuation "
   ]
  },
  {
   "cell_type": "code",
   "execution_count": null,
   "metadata": {},
   "outputs": [],
   "source": [
    "fifasorted = fifa.sort_values(by = \"Value(in Euro)\", ascending = False)\n",
    "display(fifasorted)"
   ]
  },
  {
   "cell_type": "markdown",
   "metadata": {},
   "source": [
    "(d) Create a function with four inputs f(y,x,b0,b1)\n",
    "e2=(y-b0-b1*x)**2\n",
    "\n",
    "The function should return the sum of e2 entries \n",
    "This is the residual sum of squares (rss)\n",
    "Call the function \"fn_rss\"\n",
    "Let y be the column \"Overall\" (overall score)\n",
    "Let x be the column \"Age\"\n",
    "Does \n",
    "    (b0=50,b1=-6) or \n",
    "    (b0=50,b1=0.6) or \n",
    "     (b0=50,b1=6)\n",
    "produce the lowest value of rss?"
   ]
  },
  {
   "cell_type": "code",
   "execution_count": 21,
   "metadata": {},
   "outputs": [
    {
     "name": "stdout",
     "output_type": "stream",
     "text": [
      "2577147528\n",
      "76984765.32\n",
      "3296298360\n"
     ]
    }
   ],
   "source": [
    "def fn_rss(y,x,b0,b1):\n",
    "    e2 = (y-b0-b1*x)**2\n",
    "    rss = e2.sum()\n",
    "    return rss\n",
    "\n",
    "y = fifa[\"Overall\"]\n",
    "x = fifa[\"Age\"]\n",
    "\n",
    "print(fn_rss(x, y, b0=50, b1 = -6))\n",
    "print(fn_rss(x, y, b0=50, b1 = 0.6)) #lowest value of rss\n",
    "print(fn_rss(x, y, b0=50, b1 = 6))\n",
    "\n"
   ]
  }
 ],
 "metadata": {
  "kernelspec": {
   "display_name": "base",
   "language": "python",
   "name": "python3"
  },
  "language_info": {
   "codemirror_mode": {
    "name": "ipython",
    "version": 3
   },
   "file_extension": ".py",
   "mimetype": "text/x-python",
   "name": "python",
   "nbconvert_exporter": "python",
   "pygments_lexer": "ipython3",
   "version": "3.11.5"
  }
 },
 "nbformat": 4,
 "nbformat_minor": 2
}
